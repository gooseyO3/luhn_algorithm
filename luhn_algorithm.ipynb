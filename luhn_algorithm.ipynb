{
 "cells": [
  {
   "cell_type": "markdown",
   "metadata": {},
   "source": [
    "# Luhn Algorithm"
   ]
  },
  {
   "cell_type": "markdown",
   "metadata": {},
   "source": [
    "## Implementation"
   ]
  },
  {
   "cell_type": "code",
   "execution_count": 6,
   "metadata": {},
   "outputs": [],
   "source": [
    "# we define a function \n",
    "def luhn_algorithm(card_number):\n",
    "    \n",
    "    # from the rightmost value to the leftmost\n",
    "    card_number_reversed = card_number[::-1]\n",
    "    # we extract all the odd digits\n",
    "    odd_digits = card_number_reversed[::2]\n",
    "\n",
    "    sum_odd_digits = 0\n",
    "    # we add all the odd digits\n",
    "    for digit in odd_digits:\n",
    "        sum_odd_digits += int(digit)\n",
    "\n",
    "    sum_even_digits = 0\n",
    "    # starting from index 1 \n",
    "    # '123123123'\n",
    "    # [012345678]\n",
    "    # '2132'\n",
    "    even_digits = card_number_reversed[1::2]\n",
    "    for digit in even_digits:\n",
    "        # multiplying all even digits by 2\n",
    "        number = int(digit) * 2\n",
    "        # if we have a number greater or equal than 10\n",
    "        # example: 9 * 2 = 18\n",
    "        # 18 >= 10 -> TRUE\n",
    "        # then we need to add 1 + 8 = 9\n",
    "        if number >= 10:\n",
    "            # 18 // 10 = 1\n",
    "            # 18 % 10 = 8\n",
    "            number = (number // 10) + (number % 10)\n",
    "        sum_even_digits += number\n",
    "    total = sum_odd_digits + sum_even_digits\n",
    "    # True or False values\n",
    "    return total % 10 == 0"
   ]
  },
  {
   "cell_type": "markdown",
   "metadata": {},
   "source": [
    "## ALTERNATIVE"
   ]
  },
  {
   "cell_type": "code",
   "execution_count": 4,
   "metadata": {},
   "outputs": [],
   "source": [
    "def checkLuhn(cardNo):\n",
    "    \n",
    "    # how many digits the card number has?\n",
    "    nDigits = len(cardNo)\n",
    "    nSum = 0\n",
    "    # is odd or even?\n",
    "    isSecond = False\n",
    "     \n",
    "    # backwards iteration  \n",
    "    # we start from nDigits - 1 because index starts from 0 to inf\n",
    "    # [0,1,2,3,4]\n",
    "    # NOT [1,2,3,4]\n",
    "    for i in range(nDigits - 1, -1, -1):\n",
    "        # using unicode to have its integer value\n",
    "        # e.g. 3 and 0\n",
    "        # unicode for 0 = 48 \n",
    "        # unicode for 3 = 51\n",
    "        # unicode(3) - unicode(0) = 3\n",
    "        d = ord(cardNo[i]) - ord('0')\n",
    "\n",
    "\n",
    "        if (isSecond == True):\n",
    "            d = d * 2\n",
    "  \n",
    "        # We add two digits to handle\n",
    "        # cases that make two digits after\n",
    "        # doubling\n",
    "        nSum += d // 10\n",
    "        nSum += d % 10\n",
    "\n",
    "        # changing the value of second per iteration\n",
    "        isSecond = not isSecond\n",
    "     \n",
    "    if (nSum % 10 == 0):\n",
    "        return True\n",
    "    else:\n",
    "        return False"
   ]
  },
  {
   "cell_type": "markdown",
   "metadata": {},
   "source": [
    "## Testing"
   ]
  },
  {
   "cell_type": "markdown",
   "metadata": {},
   "source": [
    "```\"can handle exception such as '-' or ' '.```"
   ]
  },
  {
   "cell_type": "code",
   "execution_count": 7,
   "metadata": {},
   "outputs": [
    {
     "name": "stdout",
     "output_type": "stream",
     "text": [
      "INVALID!\n"
     ]
    }
   ],
   "source": [
    "def main():\n",
    "    card_number = '4111-1111-4555-1141'\n",
    "    # translating every other character in order to have a plain number\n",
    "    card_translation = str.maketrans({'-': '', ' ': ''})\n",
    "    # translate using a dictionary \n",
    "    translated_card_number = card_number.translate(card_translation)\n",
    "\n",
    "    if luhn_algorithm(translated_card_number):\n",
    "        print('VALID!')\n",
    "    else:\n",
    "        print('INVALID!')\n",
    "\n",
    "main()"
   ]
  },
  {
   "cell_type": "markdown",
   "metadata": {},
   "source": [
    "```cannot handle exeptions, just plain numbers```"
   ]
  },
  {
   "cell_type": "code",
   "execution_count": 9,
   "metadata": {},
   "outputs": [
    {
     "name": "stdout",
     "output_type": "stream",
     "text": [
      "VALID!\n"
     ]
    }
   ],
   "source": [
    "if __name__==\"__main__\":\n",
    "     \n",
    "    cardNo = \"79927398713\"\n",
    "     \n",
    "    if (checkLuhn(cardNo)):\n",
    "        print(\"VALID!\")\n",
    "    else:\n",
    "        print(\"INVALID!\")"
   ]
  }
 ],
 "metadata": {
  "kernelspec": {
   "display_name": "Python 3",
   "language": "python",
   "name": "python3"
  },
  "language_info": {
   "codemirror_mode": {
    "name": "ipython",
    "version": 3
   },
   "file_extension": ".py",
   "mimetype": "text/x-python",
   "name": "python",
   "nbconvert_exporter": "python",
   "pygments_lexer": "ipython3",
   "version": "3.13.1"
  }
 },
 "nbformat": 4,
 "nbformat_minor": 2
}
